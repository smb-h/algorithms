{
 "cells": [
  {
   "cell_type": "code",
   "execution_count": 76,
   "metadata": {},
   "outputs": [],
   "source": [
    "def binary_search(data, target):\n",
    "    print(data)\n",
    "\n",
    "    if len(data) <= 1:\n",
    "        mid = 0\n",
    "        if data[mid] != target:\n",
    "            return False\n",
    "    else:\n",
    "        mid = len(data) // 2\n",
    "\n",
    "    if data[mid] == target:\n",
    "        return True\n",
    "    else:\n",
    "        if data[mid] > target:\n",
    "            return binary_search(data[:mid], target)\n",
    "        else:\n",
    "            return binary_search(data[mid:], target)"
   ]
  },
  {
   "cell_type": "code",
   "execution_count": 77,
   "metadata": {},
   "outputs": [
    {
     "name": "stdout",
     "output_type": "stream",
     "text": [
      "[21, 22, 23, 24, 25, 26, 27, 28, 29, 30, 31, 32, 33]\n",
      "[27, 28, 29, 30, 31, 32, 33]\n",
      "[30, 31, 32, 33]\n",
      "[32, 33]\n",
      "True\n",
      "[21]\n",
      "False\n"
     ]
    }
   ],
   "source": [
    "print(\n",
    "    binary_search(\n",
    "    [21, 22, 23, 24, 25, 26, 27, 28, 29, 30, 31, 32, 33], 33\n",
    "    )\n",
    ")\n",
    "\n",
    "print(\n",
    "    binary_search(\n",
    "    [21], 4\n",
    "    )\n",
    ")"
   ]
  }
 ],
 "metadata": {
  "kernelspec": {
   "display_name": "Python 3",
   "language": "python",
   "name": "python3"
  },
  "language_info": {
   "codemirror_mode": {
    "name": "ipython",
    "version": 3
   },
   "file_extension": ".py",
   "mimetype": "text/x-python",
   "name": "python",
   "nbconvert_exporter": "python",
   "pygments_lexer": "ipython3",
   "version": "3.10.6"
  },
  "orig_nbformat": 4
 },
 "nbformat": 4,
 "nbformat_minor": 2
}
